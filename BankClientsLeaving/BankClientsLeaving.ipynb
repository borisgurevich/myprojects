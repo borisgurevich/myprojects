{
 "cells": [
  {
   "cell_type": "markdown",
   "metadata": {},
   "source": [
    "# Проект \"Отток клиентов\"."
   ]
  },
  {
   "cell_type": "markdown",
   "metadata": {},
   "source": [
    "Из «Омега-Банка» каждый месяц стали уходить клиенты. Немного, но заметно. Банковские маркетологи посчитали: сохранять текущих клиентов дешевле, чем привлекать новых. На основании имеющихся данных о поведении клиентов и расторжении договоров с банком попробуем спрогнозировать, уйдёт клиент из банка в ближайшее время или нет."
   ]
  },
  {
   "cell_type": "markdown",
   "metadata": {},
   "source": [
    "## Содержание.  <a class=\"anchor\" id=\"0-bullet\">\n",
    "* [1. Подготовка данных](#1-bullet)\n",
    "    * [1.1. Получение данных](#1.1-bullet)\n",
    "    * [1.2. Предобработка данных](#1.2-bullet)\n",
    "* [2. Исследование задачи](#2-bullet)\n",
    "    * [2.1. Разбиение данных](#2.1-bullet)\n",
    "    * [2.2. Исследование моделей](#2.2-bullet)\n",
    "        * [2.2.1. Дерево решений](#2.2.1-bullet)\n",
    "        * [2.2.2. Случайный лес](#2.2.2-bullet)\n",
    "        * [2.2.3. Логистическая регрессия](#2.2.3-bullet)\n",
    "* [3. Борьба с дисбалансом](#3-bullet)\n",
    "    * [3.1. Увеличение выборки](#3.1-bullet)\n",
    "        * [3.1.1. Дерево решений](#3.1.1-bullet)\n",
    "        * [3.1.2. Случайный лес](#3.1.2-bullet)\n",
    "        * [3.1.3. Логистическая регрессия](#3.1.3-bullet)\n",
    "    * [3.2. Уменьшение выборки](#3.2-bullet)\n",
    "        * [3.2.1. Дерево решений](#3.2.1-bullet)\n",
    "        * [3.2.2. Случайный лес](#3.2.2-bullet)\n",
    "        * [3.2.3. Логистическая регрессия](#3.2.3-bullet)\n",
    "* [4. Тестирование модели](#4-bullet)"
   ]
  },
  {
   "cell_type": "markdown",
   "metadata": {},
   "source": [
    "# 1. Подготовка данных<a class=\"anchor\" id=\"1-bullet\"></a>"
   ]
  },
  {
   "cell_type": "markdown",
   "metadata": {},
   "source": [
    "## 1.1. Получение данных<a class=\"anchor\" id=\"1.1-bullet\"></a>"
   ]
  },
  {
   "cell_type": "markdown",
   "metadata": {},
   "source": [
    "<span style=\"color:purple\">Вызовем необходимые библиотеки, откроем файл данных и изучим обшую информацию.<span>"
   ]
  },
  {
   "cell_type": "code",
   "execution_count": 26,
   "metadata": {},
   "outputs": [],
   "source": [
    "# импортируем библиотеки\n",
    "import pandas as pd\n",
    "from sklearn.model_selection import train_test_split\n",
    "from sklearn.tree import DecisionTreeClassifier\n",
    "from sklearn.utils import shuffle\n",
    "from sklearn.metrics import roc_auc_score, f1_score\n",
    "from sklearn.ensemble import RandomForestClassifier\n",
    "from sklearn.linear_model import LogisticRegression\n",
    "from IPython.display import display\n",
    "import warnings\n",
    "warnings.filterwarnings(\"ignore\")\n",
    "\n",
    "# считаем файл данных\n",
    "data = pd.read_csv('/datasets/Churn.csv')"
   ]
  },
  {
   "cell_type": "code",
   "execution_count": 27,
   "metadata": {
    "scrolled": true
   },
   "outputs": [
    {
     "name": "stdout",
     "output_type": "stream",
     "text": [
      "<class 'pandas.core.frame.DataFrame'>\n",
      "RangeIndex: 10000 entries, 0 to 9999\n",
      "Data columns (total 14 columns):\n",
      "RowNumber          10000 non-null int64\n",
      "CustomerId         10000 non-null int64\n",
      "Surname            10000 non-null object\n",
      "CreditScore        10000 non-null int64\n",
      "Geography          10000 non-null object\n",
      "Gender             10000 non-null object\n",
      "Age                10000 non-null int64\n",
      "Tenure             9091 non-null float64\n",
      "Balance            10000 non-null float64\n",
      "NumOfProducts      10000 non-null int64\n",
      "HasCrCard          10000 non-null int64\n",
      "IsActiveMember     10000 non-null int64\n",
      "EstimatedSalary    10000 non-null float64\n",
      "Exited             10000 non-null int64\n",
      "dtypes: float64(3), int64(8), object(3)\n",
      "memory usage: 1.1+ MB\n"
     ]
    },
    {
     "data": {
      "text/plain": [
       "None"
      ]
     },
     "metadata": {},
     "output_type": "display_data"
    }
   ],
   "source": [
    "# выведем информацию для загруженной таблицы\n",
    "display(data.info())"
   ]
  },
  {
   "cell_type": "code",
   "execution_count": 28,
   "metadata": {},
   "outputs": [
    {
     "data": {
      "text/html": [
       "<div>\n",
       "<style scoped>\n",
       "    .dataframe tbody tr th:only-of-type {\n",
       "        vertical-align: middle;\n",
       "    }\n",
       "\n",
       "    .dataframe tbody tr th {\n",
       "        vertical-align: top;\n",
       "    }\n",
       "\n",
       "    .dataframe thead th {\n",
       "        text-align: right;\n",
       "    }\n",
       "</style>\n",
       "<table border=\"1\" class=\"dataframe\">\n",
       "  <thead>\n",
       "    <tr style=\"text-align: right;\">\n",
       "      <th></th>\n",
       "      <th>RowNumber</th>\n",
       "      <th>CustomerId</th>\n",
       "      <th>Surname</th>\n",
       "      <th>CreditScore</th>\n",
       "      <th>Geography</th>\n",
       "      <th>Gender</th>\n",
       "      <th>Age</th>\n",
       "      <th>Tenure</th>\n",
       "      <th>Balance</th>\n",
       "      <th>NumOfProducts</th>\n",
       "      <th>HasCrCard</th>\n",
       "      <th>IsActiveMember</th>\n",
       "      <th>EstimatedSalary</th>\n",
       "      <th>Exited</th>\n",
       "    </tr>\n",
       "  </thead>\n",
       "  <tbody>\n",
       "    <tr>\n",
       "      <td>0</td>\n",
       "      <td>1</td>\n",
       "      <td>15634602</td>\n",
       "      <td>Hargrave</td>\n",
       "      <td>619</td>\n",
       "      <td>France</td>\n",
       "      <td>Female</td>\n",
       "      <td>42</td>\n",
       "      <td>2.0</td>\n",
       "      <td>0.00</td>\n",
       "      <td>1</td>\n",
       "      <td>1</td>\n",
       "      <td>1</td>\n",
       "      <td>101348.88</td>\n",
       "      <td>1</td>\n",
       "    </tr>\n",
       "    <tr>\n",
       "      <td>1</td>\n",
       "      <td>2</td>\n",
       "      <td>15647311</td>\n",
       "      <td>Hill</td>\n",
       "      <td>608</td>\n",
       "      <td>Spain</td>\n",
       "      <td>Female</td>\n",
       "      <td>41</td>\n",
       "      <td>1.0</td>\n",
       "      <td>83807.86</td>\n",
       "      <td>1</td>\n",
       "      <td>0</td>\n",
       "      <td>1</td>\n",
       "      <td>112542.58</td>\n",
       "      <td>0</td>\n",
       "    </tr>\n",
       "    <tr>\n",
       "      <td>2</td>\n",
       "      <td>3</td>\n",
       "      <td>15619304</td>\n",
       "      <td>Onio</td>\n",
       "      <td>502</td>\n",
       "      <td>France</td>\n",
       "      <td>Female</td>\n",
       "      <td>42</td>\n",
       "      <td>8.0</td>\n",
       "      <td>159660.80</td>\n",
       "      <td>3</td>\n",
       "      <td>1</td>\n",
       "      <td>0</td>\n",
       "      <td>113931.57</td>\n",
       "      <td>1</td>\n",
       "    </tr>\n",
       "    <tr>\n",
       "      <td>9998</td>\n",
       "      <td>9999</td>\n",
       "      <td>15682355</td>\n",
       "      <td>Sabbatini</td>\n",
       "      <td>772</td>\n",
       "      <td>Germany</td>\n",
       "      <td>Male</td>\n",
       "      <td>42</td>\n",
       "      <td>3.0</td>\n",
       "      <td>75075.31</td>\n",
       "      <td>2</td>\n",
       "      <td>1</td>\n",
       "      <td>0</td>\n",
       "      <td>92888.52</td>\n",
       "      <td>1</td>\n",
       "    </tr>\n",
       "    <tr>\n",
       "      <td>9999</td>\n",
       "      <td>10000</td>\n",
       "      <td>15628319</td>\n",
       "      <td>Walker</td>\n",
       "      <td>792</td>\n",
       "      <td>France</td>\n",
       "      <td>Female</td>\n",
       "      <td>28</td>\n",
       "      <td>NaN</td>\n",
       "      <td>130142.79</td>\n",
       "      <td>1</td>\n",
       "      <td>1</td>\n",
       "      <td>0</td>\n",
       "      <td>38190.78</td>\n",
       "      <td>0</td>\n",
       "    </tr>\n",
       "  </tbody>\n",
       "</table>\n",
       "</div>"
      ],
      "text/plain": [
       "      RowNumber  CustomerId    Surname  CreditScore Geography  Gender  Age  \\\n",
       "0             1    15634602   Hargrave          619    France  Female   42   \n",
       "1             2    15647311       Hill          608     Spain  Female   41   \n",
       "2             3    15619304       Onio          502    France  Female   42   \n",
       "9998       9999    15682355  Sabbatini          772   Germany    Male   42   \n",
       "9999      10000    15628319     Walker          792    France  Female   28   \n",
       "\n",
       "      Tenure    Balance  NumOfProducts  HasCrCard  IsActiveMember  \\\n",
       "0        2.0       0.00              1          1               1   \n",
       "1        1.0   83807.86              1          0               1   \n",
       "2        8.0  159660.80              3          1               0   \n",
       "9998     3.0   75075.31              2          1               0   \n",
       "9999     NaN  130142.79              1          1               0   \n",
       "\n",
       "      EstimatedSalary  Exited  \n",
       "0           101348.88       1  \n",
       "1           112542.58       0  \n",
       "2           113931.57       1  \n",
       "9998         92888.52       1  \n",
       "9999         38190.78       0  "
      ]
     },
     "metadata": {},
     "output_type": "display_data"
    }
   ],
   "source": [
    "# поближе познакомимся с данными\n",
    "display(pd.concat([data.head(3), data.tail(2)]))"
   ]
  },
  {
   "cell_type": "markdown",
   "metadata": {},
   "source": [
    "<span style=\"color:purple\">В датасете присутствует 10000 записей. Аналитика представлена 14 позициями:<span>\n",
    "    \n",
    "<span style=\"color:purple\">Признаки:<span>\n",
    "    \n",
    "<span style=\"color:purple\">RowNumber — индекс строки в данных<span>\n",
    "    \n",
    "<span style=\"color:purple\">CustomerId — уникальный идентификатор клиента<span>\n",
    "    \n",
    "<span style=\"color:purple\">Surname — фамилия<span>\n",
    "    \n",
    "<span style=\"color:purple\">CreditScore — кредитный рейтинг<span>\n",
    "    \n",
    "<span style=\"color:purple\">Geography — страна проживания<span>\n",
    "    \n",
    "<span style=\"color:purple\">Gender — пол<span>\n",
    "    \n",
    "<span style=\"color:purple\">Age — возраст<span>\n",
    "    \n",
    "<span style=\"color:purple\">Tenure — количество недвижимости у клиента<span>\n",
    "    \n",
    "<span style=\"color:purple\">Balance — баланс на счёте<span>\n",
    "    \n",
    "<span style=\"color:purple\">NumOfProducts — количество продуктов банка, используемых клиентом<span>\n",
    "    \n",
    "<span style=\"color:purple\">HasCrCard — наличие кредитной карты<span>\n",
    "    \n",
    "<span style=\"color:purple\">IsActiveMember — активность клиента<span>\n",
    "    \n",
    "<span style=\"color:purple\">EstimatedSalary — предполагаемая зарплата<span>\n",
    "        \n",
    "<span style=\"color:purple\">Целевой признак:<span>\n",
    "    \n",
    "<span style=\"color:purple\">Exited — факт ухода клиента<span>"
   ]
  },
  {
   "cell_type": "markdown",
   "metadata": {},
   "source": [
    "## 1.2. Предобрабока данных<a class=\"anchor\" id=\"1.2-bullet\"></a>\n",
    "👈[назад к оглавлению](#0-bullet)"
   ]
  },
  {
   "cell_type": "markdown",
   "metadata": {},
   "source": [
    "<span style=\"color:purple\">В столбце Tenure присутствуют пропуски. Заполним их медианным значением. Кроме того, удалим не представляющие интереса для анализа столбцы RowNumber, CustomerId и Surname.<span>"
   ]
  },
  {
   "cell_type": "code",
   "execution_count": 29,
   "metadata": {},
   "outputs": [
    {
     "data": {
      "text/html": [
       "<div>\n",
       "<style scoped>\n",
       "    .dataframe tbody tr th:only-of-type {\n",
       "        vertical-align: middle;\n",
       "    }\n",
       "\n",
       "    .dataframe tbody tr th {\n",
       "        vertical-align: top;\n",
       "    }\n",
       "\n",
       "    .dataframe thead th {\n",
       "        text-align: right;\n",
       "    }\n",
       "</style>\n",
       "<table border=\"1\" class=\"dataframe\">\n",
       "  <thead>\n",
       "    <tr style=\"text-align: right;\">\n",
       "      <th></th>\n",
       "      <th>CreditScore</th>\n",
       "      <th>Geography</th>\n",
       "      <th>Gender</th>\n",
       "      <th>Age</th>\n",
       "      <th>Tenure</th>\n",
       "      <th>Balance</th>\n",
       "      <th>NumOfProducts</th>\n",
       "      <th>HasCrCard</th>\n",
       "      <th>IsActiveMember</th>\n",
       "      <th>EstimatedSalary</th>\n",
       "      <th>Exited</th>\n",
       "    </tr>\n",
       "  </thead>\n",
       "  <tbody>\n",
       "    <tr>\n",
       "      <td>0</td>\n",
       "      <td>619</td>\n",
       "      <td>France</td>\n",
       "      <td>Female</td>\n",
       "      <td>42</td>\n",
       "      <td>2.0</td>\n",
       "      <td>0.00</td>\n",
       "      <td>1</td>\n",
       "      <td>1</td>\n",
       "      <td>1</td>\n",
       "      <td>101348.88</td>\n",
       "      <td>1</td>\n",
       "    </tr>\n",
       "    <tr>\n",
       "      <td>1</td>\n",
       "      <td>608</td>\n",
       "      <td>Spain</td>\n",
       "      <td>Female</td>\n",
       "      <td>41</td>\n",
       "      <td>1.0</td>\n",
       "      <td>83807.86</td>\n",
       "      <td>1</td>\n",
       "      <td>0</td>\n",
       "      <td>1</td>\n",
       "      <td>112542.58</td>\n",
       "      <td>0</td>\n",
       "    </tr>\n",
       "    <tr>\n",
       "      <td>2</td>\n",
       "      <td>502</td>\n",
       "      <td>France</td>\n",
       "      <td>Female</td>\n",
       "      <td>42</td>\n",
       "      <td>8.0</td>\n",
       "      <td>159660.80</td>\n",
       "      <td>3</td>\n",
       "      <td>1</td>\n",
       "      <td>0</td>\n",
       "      <td>113931.57</td>\n",
       "      <td>1</td>\n",
       "    </tr>\n",
       "    <tr>\n",
       "      <td>9998</td>\n",
       "      <td>772</td>\n",
       "      <td>Germany</td>\n",
       "      <td>Male</td>\n",
       "      <td>42</td>\n",
       "      <td>3.0</td>\n",
       "      <td>75075.31</td>\n",
       "      <td>2</td>\n",
       "      <td>1</td>\n",
       "      <td>0</td>\n",
       "      <td>92888.52</td>\n",
       "      <td>1</td>\n",
       "    </tr>\n",
       "    <tr>\n",
       "      <td>9999</td>\n",
       "      <td>792</td>\n",
       "      <td>France</td>\n",
       "      <td>Female</td>\n",
       "      <td>28</td>\n",
       "      <td>5.0</td>\n",
       "      <td>130142.79</td>\n",
       "      <td>1</td>\n",
       "      <td>1</td>\n",
       "      <td>0</td>\n",
       "      <td>38190.78</td>\n",
       "      <td>0</td>\n",
       "    </tr>\n",
       "  </tbody>\n",
       "</table>\n",
       "</div>"
      ],
      "text/plain": [
       "      CreditScore Geography  Gender  Age  Tenure    Balance  NumOfProducts  \\\n",
       "0             619    France  Female   42     2.0       0.00              1   \n",
       "1             608     Spain  Female   41     1.0   83807.86              1   \n",
       "2             502    France  Female   42     8.0  159660.80              3   \n",
       "9998          772   Germany    Male   42     3.0   75075.31              2   \n",
       "9999          792    France  Female   28     5.0  130142.79              1   \n",
       "\n",
       "      HasCrCard  IsActiveMember  EstimatedSalary  Exited  \n",
       "0             1               1        101348.88       1  \n",
       "1             0               1        112542.58       0  \n",
       "2             1               0        113931.57       1  \n",
       "9998          1               0         92888.52       1  \n",
       "9999          1               0         38190.78       0  "
      ]
     },
     "metadata": {},
     "output_type": "display_data"
    },
    {
     "name": "stdout",
     "output_type": "stream",
     "text": [
      "<class 'pandas.core.frame.DataFrame'>\n",
      "RangeIndex: 10000 entries, 0 to 9999\n",
      "Data columns (total 11 columns):\n",
      "CreditScore        10000 non-null int64\n",
      "Geography          10000 non-null object\n",
      "Gender             10000 non-null object\n",
      "Age                10000 non-null int64\n",
      "Tenure             10000 non-null float64\n",
      "Balance            10000 non-null float64\n",
      "NumOfProducts      10000 non-null int64\n",
      "HasCrCard          10000 non-null int64\n",
      "IsActiveMember     10000 non-null int64\n",
      "EstimatedSalary    10000 non-null float64\n",
      "Exited             10000 non-null int64\n",
      "dtypes: float64(3), int64(6), object(2)\n",
      "memory usage: 859.5+ KB\n"
     ]
    },
    {
     "data": {
      "text/plain": [
       "None"
      ]
     },
     "metadata": {},
     "output_type": "display_data"
    }
   ],
   "source": [
    "# заполним пропуски\n",
    "data.loc[data['Tenure'].isna(), 'Tenure'] = data['Tenure'].median()\n",
    "\n",
    "# удалим ненужные столбцы\n",
    "data = data.drop(columns=['RowNumber', 'CustomerId', 'Surname'])\n",
    "\n",
    "# посмотрим, что получилось\n",
    "display(pd.concat([data.head(3), data.tail(2)]))\n",
    "display(data.info())"
   ]
  },
  {
   "cell_type": "markdown",
   "metadata": {},
   "source": [
    "<span style=\"color:purple\">Данные готовы для исследовательской работы.<span>"
   ]
  },
  {
   "cell_type": "markdown",
   "metadata": {},
   "source": [
    "# 2. Исследование задачи<a class=\"anchor\" id=\"2-bullet\"></a>\n",
    "👈[назад к оглавлению](#0-bullet)"
   ]
  },
  {
   "cell_type": "markdown",
   "metadata": {},
   "source": [
    "## 2.1. Разбиение данных<a class=\"anchor\" id=\"2.1-bullet\"></a>"
   ]
  },
  {
   "cell_type": "markdown",
   "metadata": {},
   "source": [
    "<span style=\"color:purple\">Разделим данные на признаки и целевое значение.<span>"
   ]
  },
  {
   "cell_type": "code",
   "execution_count": 30,
   "metadata": {},
   "outputs": [],
   "source": [
    "features = data.drop('Exited', axis=1)\n",
    "target = data['Exited']"
   ]
  },
  {
   "cell_type": "markdown",
   "metadata": {},
   "source": [
    "<span style=\"color:purple\">Среди признаков есть два категориальных - Geography и Gender. Обработаем их техникой OHE.<span>"
   ]
  },
  {
   "cell_type": "code",
   "execution_count": 31,
   "metadata": {},
   "outputs": [],
   "source": [
    "features = pd.get_dummies(features, columns=['Geography', 'Gender'], drop_first=True)"
   ]
  },
  {
   "cell_type": "markdown",
   "metadata": {},
   "source": [
    "<span style=\"color:purple\">Посмотрим, что получилось.<span>"
   ]
  },
  {
   "cell_type": "code",
   "execution_count": 32,
   "metadata": {},
   "outputs": [
    {
     "data": {
      "text/html": [
       "<div>\n",
       "<style scoped>\n",
       "    .dataframe tbody tr th:only-of-type {\n",
       "        vertical-align: middle;\n",
       "    }\n",
       "\n",
       "    .dataframe tbody tr th {\n",
       "        vertical-align: top;\n",
       "    }\n",
       "\n",
       "    .dataframe thead th {\n",
       "        text-align: right;\n",
       "    }\n",
       "</style>\n",
       "<table border=\"1\" class=\"dataframe\">\n",
       "  <thead>\n",
       "    <tr style=\"text-align: right;\">\n",
       "      <th></th>\n",
       "      <th>CreditScore</th>\n",
       "      <th>Age</th>\n",
       "      <th>Tenure</th>\n",
       "      <th>Balance</th>\n",
       "      <th>NumOfProducts</th>\n",
       "      <th>HasCrCard</th>\n",
       "      <th>IsActiveMember</th>\n",
       "      <th>EstimatedSalary</th>\n",
       "      <th>Geography_Germany</th>\n",
       "      <th>Geography_Spain</th>\n",
       "      <th>Gender_Male</th>\n",
       "    </tr>\n",
       "  </thead>\n",
       "  <tbody>\n",
       "    <tr>\n",
       "      <td>0</td>\n",
       "      <td>619</td>\n",
       "      <td>42</td>\n",
       "      <td>2.0</td>\n",
       "      <td>0.00</td>\n",
       "      <td>1</td>\n",
       "      <td>1</td>\n",
       "      <td>1</td>\n",
       "      <td>101348.88</td>\n",
       "      <td>0</td>\n",
       "      <td>0</td>\n",
       "      <td>0</td>\n",
       "    </tr>\n",
       "    <tr>\n",
       "      <td>1</td>\n",
       "      <td>608</td>\n",
       "      <td>41</td>\n",
       "      <td>1.0</td>\n",
       "      <td>83807.86</td>\n",
       "      <td>1</td>\n",
       "      <td>0</td>\n",
       "      <td>1</td>\n",
       "      <td>112542.58</td>\n",
       "      <td>0</td>\n",
       "      <td>1</td>\n",
       "      <td>0</td>\n",
       "    </tr>\n",
       "    <tr>\n",
       "      <td>2</td>\n",
       "      <td>502</td>\n",
       "      <td>42</td>\n",
       "      <td>8.0</td>\n",
       "      <td>159660.80</td>\n",
       "      <td>3</td>\n",
       "      <td>1</td>\n",
       "      <td>0</td>\n",
       "      <td>113931.57</td>\n",
       "      <td>0</td>\n",
       "      <td>0</td>\n",
       "      <td>0</td>\n",
       "    </tr>\n",
       "    <tr>\n",
       "      <td>9998</td>\n",
       "      <td>772</td>\n",
       "      <td>42</td>\n",
       "      <td>3.0</td>\n",
       "      <td>75075.31</td>\n",
       "      <td>2</td>\n",
       "      <td>1</td>\n",
       "      <td>0</td>\n",
       "      <td>92888.52</td>\n",
       "      <td>1</td>\n",
       "      <td>0</td>\n",
       "      <td>1</td>\n",
       "    </tr>\n",
       "    <tr>\n",
       "      <td>9999</td>\n",
       "      <td>792</td>\n",
       "      <td>28</td>\n",
       "      <td>5.0</td>\n",
       "      <td>130142.79</td>\n",
       "      <td>1</td>\n",
       "      <td>1</td>\n",
       "      <td>0</td>\n",
       "      <td>38190.78</td>\n",
       "      <td>0</td>\n",
       "      <td>0</td>\n",
       "      <td>0</td>\n",
       "    </tr>\n",
       "  </tbody>\n",
       "</table>\n",
       "</div>"
      ],
      "text/plain": [
       "      CreditScore  Age  Tenure    Balance  NumOfProducts  HasCrCard  \\\n",
       "0             619   42     2.0       0.00              1          1   \n",
       "1             608   41     1.0   83807.86              1          0   \n",
       "2             502   42     8.0  159660.80              3          1   \n",
       "9998          772   42     3.0   75075.31              2          1   \n",
       "9999          792   28     5.0  130142.79              1          1   \n",
       "\n",
       "      IsActiveMember  EstimatedSalary  Geography_Germany  Geography_Spain  \\\n",
       "0                  1        101348.88                  0                0   \n",
       "1                  1        112542.58                  0                1   \n",
       "2                  0        113931.57                  0                0   \n",
       "9998               0         92888.52                  1                0   \n",
       "9999               0         38190.78                  0                0   \n",
       "\n",
       "      Gender_Male  \n",
       "0               0  \n",
       "1               0  \n",
       "2               0  \n",
       "9998            1  \n",
       "9999            0  "
      ]
     },
     "metadata": {},
     "output_type": "display_data"
    }
   ],
   "source": [
    "display(pd.concat([features.head(3), features.tail(2)]))"
   ]
  },
  {
   "cell_type": "markdown",
   "metadata": {},
   "source": [
    "<span style=\"color:purple\">Теперь все признаки - количественные.<span>"
   ]
  },
  {
   "cell_type": "markdown",
   "metadata": {},
   "source": [
    "<span style=\"color:purple\">Разобьём выборки на обучающую, валидационную и тестовую в соотношении 3:1:1.<span>"
   ]
  },
  {
   "cell_type": "code",
   "execution_count": 33,
   "metadata": {},
   "outputs": [],
   "source": [
    "features_train, features_valid_test, target_train, target_valid_test = train_test_split(features, target, \\\n",
    "                                                                                          test_size=0.4, random_state=100500)\n",
    "features_valid, features_test, target_valid, target_test = train_test_split(features_valid_test, target_valid_test, \\\n",
    "                                                                                          test_size=0.5, random_state=100500)"
   ]
  },
  {
   "cell_type": "code",
   "execution_count": 34,
   "metadata": {},
   "outputs": [
    {
     "data": {
      "text/plain": [
       "(6000, 11)"
      ]
     },
     "metadata": {},
     "output_type": "display_data"
    },
    {
     "data": {
      "text/plain": [
       "(2000, 11)"
      ]
     },
     "metadata": {},
     "output_type": "display_data"
    },
    {
     "data": {
      "text/plain": [
       "(2000, 11)"
      ]
     },
     "metadata": {},
     "output_type": "display_data"
    }
   ],
   "source": [
    "display(features_train.shape, features_valid.shape, features_test.shape)"
   ]
  },
  {
   "cell_type": "markdown",
   "metadata": {},
   "source": [
    "<span style=\"color:purple\">Теперь в обучащей выборке 6000 наблюдений, в валидационной и тестовой - по 2000 наблюдений.<span>"
   ]
  },
  {
   "cell_type": "markdown",
   "metadata": {},
   "source": [
    "<span style=\"color:purple\">Проверим баланс классов.<span>"
   ]
  },
  {
   "cell_type": "code",
   "execution_count": 35,
   "metadata": {},
   "outputs": [
    {
     "name": "stdout",
     "output_type": "stream",
     "text": [
      "0    0.800667\n",
      "1    0.199333\n",
      "Name: Exited, dtype: float64\n"
     ]
    },
    {
     "data": {
      "text/plain": [
       "<matplotlib.axes._subplots.AxesSubplot at 0x7fb559a56050>"
      ]
     },
     "execution_count": 35,
     "metadata": {},
     "output_type": "execute_result"
    },
    {
     "data": {
      "image/png": "[encoded data removed]",
      "text/plain": [
       "<Figure size 432x288 with 1 Axes>"
      ]
     },
     "metadata": {
      "needs_background": "light"
     },
     "output_type": "display_data"
    }
   ],
   "source": [
    "class_frequency = target_train.value_counts(normalize=True)\n",
    "print(class_frequency)\n",
    "class_frequency.plot(kind='bar')"
   ]
  },
  {
   "cell_type": "markdown",
   "metadata": {},
   "source": [
    "<span style=\"color:purple\">Как можно увидеть, наблюдается явный дисбаланс классов (\"0\" превосходит \"1\" практически в 4 раза).<span>"
   ]
  },
  {
   "cell_type": "markdown",
   "metadata": {},
   "source": [
    "## 2.2. Исследование моделей<a class=\"anchor\" id=\"2.2-bullet\"></a>\n",
    "👈[назад к оглавлению](#0-bullet)"
   ]
  },
  {
   "cell_type": "markdown",
   "metadata": {},
   "source": [
    "### 2.2.1. Дерево решений<a class=\"anchor\" id=\"2.2.1-bullet\"></a>"
   ]
  },
  {
   "cell_type": "code",
   "execution_count": 36,
   "metadata": {},
   "outputs": [
    {
     "name": "stdout",
     "output_type": "stream",
     "text": [
      "F1-мера для дерева решений:\n",
      "\n",
      "max_depth= 1\n",
      "Обучающая выборка: 0.0\n",
      "Валидационная выборка: 0.0\n",
      "(AUC-ROC для валидационной выборки): 0.5\n",
      "\n",
      "max_depth= 2\n",
      "Обучающая выборка: 0.5210166177908113\n",
      "Валидационная выборка: 0.4906204906204907\n",
      "(AUC-ROC для валидационной выборки): 0.6703561976697858\n",
      "\n",
      "max_depth= 3\n",
      "Обучающая выборка: 0.5445689235265465\n",
      "Валидационная выборка: 0.5128939828080228\n",
      "(AUC-ROC для валидационной выборки): 0.682410988454972\n",
      "\n",
      "max_depth= 4\n",
      "Обучающая выборка: 0.5300546448087432\n",
      "Валидационная выборка: 0.49117174959871585\n",
      "(AUC-ROC для валидационной выборки): 0.666712871017147\n",
      "\n",
      "max_depth= 5\n",
      "Обучающая выборка: 0.5965087281795511\n",
      "Валидационная выборка: 0.5627705627705628\n",
      "(AUC-ROC для валидационной выборки): 0.7082286160963838\n",
      "\n",
      "max_depth= 6\n",
      "Обучающая выборка: 0.5924748277689454\n",
      "Валидационная выборка: 0.5385779122541604\n",
      "(AUC-ROC для валидационной выборки): 0.6925827625959877\n",
      "\n",
      "max_depth= 7\n",
      "Обучающая выборка: 0.6265306122448979\n",
      "Валидационная выборка: 0.5170876671619613\n",
      "(AUC-ROC для валидационной выборки): 0.682732904011598\n",
      "\n",
      "max_depth= 8\n",
      "Обучающая выборка: 0.6690140845070423\n",
      "Валидационная выборка: 0.5550786838340486\n",
      "(AUC-ROC для валидационной выборки): 0.7048185835412529\n",
      "\n",
      "max_depth= 9\n",
      "Обучающая выборка: 0.7103718199608611\n",
      "Валидационная выборка: 0.5606694560669456\n",
      "(AUC-ROC для валидационной выборки): 0.7097374532464995\n",
      "\n",
      "max_depth= 10\n",
      "Обучающая выборка: 0.7531461761858664\n",
      "Валидационная выборка: 0.5373134328358209\n",
      "(AUC-ROC для валидационной выборки): 0.6988756436417511\n",
      "\n"
     ]
    }
   ],
   "source": [
    "print(\"F1-мера для дерева решений:\")\n",
    "print()\n",
    "for md in range(1, 11, 1):\n",
    "    model_tree = DecisionTreeClassifier(max_depth=md, random_state=100500)\n",
    "    model_tree.fit(features_train, target_train)\n",
    "    train_predictions = model_tree.predict(features_train)\n",
    "    valid_predictions = model_tree.predict(features_valid)\n",
    "    print(\"max_depth=\", md)\n",
    "    print(\"Обучающая выборка:\", f1_score(target_train, train_predictions))\n",
    "    print(\"Валидационная выборка:\", f1_score(target_valid, valid_predictions))\n",
    "    print(\"(AUC-ROC для валидационной выборки):\", roc_auc_score(target_valid, valid_predictions))\n",
    "    print()"
   ]
  },
  {
   "cell_type": "markdown",
   "metadata": {},
   "source": [
    "<span style=\"color:purple\">Наиболее адекватной видится модель с max_depth = 5. Здесь f1 на валидационной выборке равна 0.563. Однако до требуемого значения f1 >= 0.59 пока далеко.<span>"
   ]
  },
  {
   "cell_type": "markdown",
   "metadata": {},
   "source": [
    "### 2.2.2. Случайный лес<a class=\"anchor\" id=\"2.2.2-bullet\"></a>\n",
    "👈[назад к оглавлению](#0-bullet)"
   ]
  },
  {
   "cell_type": "code",
   "execution_count": 37,
   "metadata": {
    "scrolled": true
   },
   "outputs": [
    {
     "name": "stdout",
     "output_type": "stream",
     "text": [
      "F1-мера для случайного леса:\n",
      "\n",
      "n_estimators= 10\n",
      "Обучающая выборка: 0.8217203267659778\n",
      "Валидационная выборка: 0.5543964232488823\n",
      "(AUC-ROC для валидационной выборки): 0.7015433767957207\n",
      "\n",
      "n_estimators= 20\n",
      "Обучающая выборка: 0.8267564966313764\n",
      "Валидационная выборка: 0.5580693815987934\n",
      "(AUC-ROC для валидационной выборки): 0.7025553278160794\n",
      "\n",
      "n_estimators= 30\n",
      "Обучающая выборка: 0.8318924111431316\n",
      "Валидационная выборка: 0.5623100303951368\n",
      "(AUC-ROC для валидационной выборки): 0.7041346076644686\n",
      "\n",
      "n_estimators= 40\n",
      "Обучающая выборка: 0.8376560999039385\n",
      "Валидационная выборка: 0.5692541856925418\n",
      "(AUC-ROC для валидационной выборки): 0.7074802571082742\n",
      "\n",
      "n_estimators= 50\n",
      "Обучающая выборка: 0.8370086289549377\n",
      "Валидационная выборка: 0.5714285714285714\n",
      "(AUC-ROC для валидационной выборки): 0.7086792978756603\n",
      "\n",
      "n_estimators= 60\n",
      "Обучающая выборка: 0.8351753964440173\n",
      "Валидационная выборка: 0.5731707317073171\n",
      "(AUC-ROC для валидационной выборки): 0.7093110098150159\n",
      "\n",
      "n_estimators= 70\n",
      "Обучающая выборка: 0.8392344497607656\n",
      "Валидационная выборка: 0.5740458015267176\n",
      "(AUC-ROC для валидационной выборки): 0.7096268657846937\n",
      "\n",
      "n_estimators= 80\n",
      "Обучающая выборка: 0.8324531925108016\n",
      "Валидационная выборка: 0.5775075987841946\n",
      "(AUC-ROC для валидационной выборки): 0.7117090913497881\n",
      "\n",
      "n_estimators= 90\n",
      "Обучающая выборка: 0.8388330942132951\n",
      "Валидационная выборка: 0.5740458015267176\n",
      "(AUC-ROC для валидационной выборки): 0.7096268657846937\n",
      "\n",
      "n_estimators= 100\n",
      "Обучающая выборка: 0.8378766140602583\n",
      "Валидационная выборка: 0.578386605783866\n",
      "(AUC-ROC для валидационной выборки): 0.7120249473194659\n",
      "\n"
     ]
    }
   ],
   "source": [
    "print(\"F1-мера для случайного леса:\")\n",
    "print()\n",
    "for estim in range(10, 101, 10):\n",
    "    model_forest = RandomForestClassifier(n_estimators=estim, max_depth=12, random_state=100500)\n",
    "    model_forest.fit(features_train, target_train)\n",
    "    train_predictions = model_forest.predict(features_train)\n",
    "    valid_predictions = model_forest.predict(features_valid)\n",
    "    print(\"n_estimators=\", estim)\n",
    "    print(\"Обучающая выборка:\", f1_score(target_train, train_predictions))\n",
    "    print(\"Валидационная выборка:\", f1_score(target_valid, valid_predictions))\n",
    "    print(\"(AUC-ROC для валидационной выборки):\", roc_auc_score(target_valid, valid_predictions))\n",
    "    print()"
   ]
  },
  {
   "cell_type": "markdown",
   "metadata": {},
   "source": [
    "<span style=\"color:purple\">Неплохие показатели даёт модель с max_depth=12 и n_estimators= 80. Здесь f1 на валидационной выборке равна 0.578. Только этого мало.<span>"
   ]
  },
  {
   "cell_type": "markdown",
   "metadata": {},
   "source": [
    "### 2.2.3. Логистическая регрессия<a class=\"anchor\" id=\"2.2.3-bullet\"></a>\n",
    "👈[назад к оглавлению](#0-bullet)"
   ]
  },
  {
   "cell_type": "code",
   "execution_count": 38,
   "metadata": {},
   "outputs": [
    {
     "name": "stdout",
     "output_type": "stream",
     "text": [
      "F1-мера для логистической регрессии:\n",
      "\n",
      "Обучающая выборка: 0.12756909992912827\n",
      "Валидационная выборка: 0.09623430962343095\n",
      "(AUC-ROC для валидационной выборки): 0.5155754108021227\n",
      "\n"
     ]
    }
   ],
   "source": [
    "print(\"F1-мера для логистической регрессии:\")\n",
    "print()\n",
    "model_logreg = LogisticRegression(random_state=100500, solver='liblinear')\n",
    "model_logreg.fit(features_train, target_train)\n",
    "train_predictions = model_logreg.predict(features_train)\n",
    "valid_predictions = model_logreg.predict(features_valid)    \n",
    "print(\"Обучающая выборка:\", f1_score(target_train, train_predictions))\n",
    "print(\"Валидационная выборка:\", f1_score(target_valid, valid_predictions))\n",
    "print(\"(AUC-ROC для валидационной выборки):\", roc_auc_score(target_valid, valid_predictions))\n",
    "print()"
   ]
  },
  {
   "cell_type": "markdown",
   "metadata": {},
   "source": [
    "<span style=\"color:purple\">Здесь всё совсем грустно.<span>"
   ]
  },
  {
   "cell_type": "markdown",
   "metadata": {},
   "source": [
    "<span style=\"color:purple\">Таким образом, на несбалансированных данных нам не удалось достичь требуемого значения f1. Попробуем побороться с дисбалансом.<span>"
   ]
  },
  {
   "cell_type": "markdown",
   "metadata": {},
   "source": [
    "# 3. Борьба с дисбалансом<a class=\"anchor\" id=\"3-bullet\"></a>\n",
    "👈[назад к оглавлению](#0-bullet)"
   ]
  },
  {
   "cell_type": "markdown",
   "metadata": {},
   "source": [
    "## 3.1. Увеличение выборки<a class=\"anchor\" id=\"3.1-bullet\"></a>"
   ]
  },
  {
   "cell_type": "markdown",
   "metadata": {},
   "source": [
    "<span style=\"color:purple\">Применим технику upsampling.<span>"
   ]
  },
  {
   "cell_type": "code",
   "execution_count": 39,
   "metadata": {},
   "outputs": [],
   "source": [
    "def upsample(features, target, repeat):\n",
    "    features_zeros = features[target == 0]\n",
    "    features_ones = features[target == 1]\n",
    "    target_zeros = target[target == 0]\n",
    "    target_ones = target[target == 1]\n",
    "\n",
    "    features_upsampled = pd.concat([features_zeros] + [features_ones] * repeat)\n",
    "    target_upsampled = pd.concat([target_zeros] + [target_ones] * repeat)\n",
    "    \n",
    "    features_upsampled, target_upsampled = shuffle(features_upsampled, target_upsampled, random_state=100500)\n",
    "    \n",
    "    return features_upsampled, target_upsampled\n",
    "\n",
    "features_upsampled, target_upsampled = upsample(features_train, target_train, 4)"
   ]
  },
  {
   "cell_type": "markdown",
   "metadata": {},
   "source": [
    "<span style=\"color:purple\">Проверим баланс классов.<span>"
   ]
  },
  {
   "cell_type": "code",
   "execution_count": 40,
   "metadata": {},
   "outputs": [
    {
     "name": "stdout",
     "output_type": "stream",
     "text": [
      "0    0.501043\n",
      "1    0.498957\n",
      "Name: Exited, dtype: float64\n"
     ]
    },
    {
     "data": {
      "text/plain": [
       "<matplotlib.axes._subplots.AxesSubplot at 0x7fb5599d6f10>"
      ]
     },
     "execution_count": 40,
     "metadata": {},
     "output_type": "execute_result"
    },
    {
     "data": {
      "image/png": "[encoded data removed]",
      "text/plain": [
       "<Figure size 432x288 with 1 Axes>"
      ]
     },
     "metadata": {
      "needs_background": "light"
     },
     "output_type": "display_data"
    }
   ],
   "source": [
    "class_frequency = target_upsampled.value_counts(normalize=True)\n",
    "print(class_frequency)\n",
    "class_frequency.plot(kind='bar')"
   ]
  },
  {
   "cell_type": "markdown",
   "metadata": {},
   "source": [
    "<span style=\"color:purple\">Классы сбалансированы.<span>"
   ]
  },
  {
   "cell_type": "markdown",
   "metadata": {},
   "source": [
    "<span style=\"color:purple\">Обучим модели на новых данных и посмотрим, что получилось.<span>"
   ]
  },
  {
   "cell_type": "markdown",
   "metadata": {},
   "source": [
    "### 3.1.1. Дерево решений<a class=\"anchor\" id=\"3.1.1-bullet\"></a>\n",
    "👈[назад к оглавлению](#0-bullet)"
   ]
  },
  {
   "cell_type": "code",
   "execution_count": 41,
   "metadata": {},
   "outputs": [
    {
     "name": "stdout",
     "output_type": "stream",
     "text": [
      "F1-мера для дерева решений:\n",
      "\n",
      "Обучающая выборка: 0.802645174622856\n",
      "Валидационная выборка: 0.5522935779816515\n",
      "(AUC-ROC для валидационной выборки): 0.7434128502630618\n"
     ]
    }
   ],
   "source": [
    "print(\"F1-мера для дерева решений:\")\n",
    "print()\n",
    "model_tree = DecisionTreeClassifier(max_depth=6, random_state=100500)\n",
    "model_tree.fit(features_upsampled, target_upsampled)\n",
    "train_predictions = model_tree.predict(features_upsampled)\n",
    "valid_predictions = model_tree.predict(features_valid)\n",
    "print(\"Обучающая выборка:\", f1_score(target_upsampled, train_predictions))\n",
    "print(\"Валидационная выборка:\", f1_score(target_valid, valid_predictions))\n",
    "print(\"(AUC-ROC для валидационной выборки):\", roc_auc_score(target_valid, valid_predictions))"
   ]
  },
  {
   "cell_type": "markdown",
   "metadata": {},
   "source": [
    "<span style=\"color:purple\">Как видим, выравнивание классов не улучшило f1 для дерева решений. Однако значение AUC-ROC выросло. <span>"
   ]
  },
  {
   "cell_type": "markdown",
   "metadata": {},
   "source": [
    "### 3.1.2. Случайный лес<a class=\"anchor\" id=\"3.1.2-bullet\"></a>\n",
    "👈[назад к оглавлению](#0-bullet)"
   ]
  },
  {
   "cell_type": "code",
   "execution_count": 42,
   "metadata": {},
   "outputs": [
    {
     "name": "stdout",
     "output_type": "stream",
     "text": [
      "F1-мера для случайного леса:\n",
      "\n",
      "Обучающая выборка: 0.9724940764396827\n",
      "Валидационная выборка: 0.592074592074592\n",
      "(AUC-ROC для валидационной выборки): 0.7454912885863135\n"
     ]
    }
   ],
   "source": [
    "print(\"F1-мера для случайного леса:\")\n",
    "print()\n",
    "model_forest = RandomForestClassifier(n_estimators=80, max_depth=12, random_state=100500)\n",
    "model_forest.fit(features_upsampled, target_upsampled)\n",
    "train_predictions = model_forest.predict(features_upsampled)\n",
    "valid_predictions = model_forest.predict(features_valid)\n",
    "print(\"Обучающая выборка:\", f1_score(target_upsampled, train_predictions))\n",
    "print(\"Валидационная выборка:\", f1_score(target_valid, valid_predictions))\n",
    "print(\"(AUC-ROC для валидационной выборки):\", roc_auc_score(target_valid, valid_predictions))"
   ]
  },
  {
   "cell_type": "markdown",
   "metadata": {},
   "source": [
    "<span style=\"color:purple\">А вот для случайного леса улучшение f1 заметно - на валидационной выборке мы уже превзошли психологически важную отметку 0.59. AUC-ROC тоже улучшилась.<span>"
   ]
  },
  {
   "cell_type": "markdown",
   "metadata": {},
   "source": [
    "### 3.1.3. Логистическая регрессия<a class=\"anchor\" id=\"3.1.3-bullet\"></a>\n",
    "👈[назад к оглавлению](#0-bullet)"
   ]
  },
  {
   "cell_type": "code",
   "execution_count": 43,
   "metadata": {},
   "outputs": [
    {
     "name": "stdout",
     "output_type": "stream",
     "text": [
      "F1-мера для логистической регрессии:\n",
      "\n",
      "Обучающая выборка: 0.6758218893050354\n",
      "Валидационная выборка: 0.446078431372549\n",
      "(AUC-ROC для валидационной выборки): 0.6586710416884433\n"
     ]
    }
   ],
   "source": [
    "print(\"F1-мера для логистической регрессии:\")\n",
    "print()\n",
    "model_logreg = LogisticRegression(random_state=100500, solver='liblinear')\n",
    "model_logreg.fit(features_upsampled, target_upsampled)\n",
    "train_predictions = model_logreg.predict(features_upsampled)\n",
    "valid_predictions = model_logreg.predict(features_valid)    \n",
    "print(\"Обучающая выборка:\", f1_score(target_upsampled, train_predictions))\n",
    "print(\"Валидационная выборка:\", f1_score(target_valid, valid_predictions))\n",
    "print(\"(AUC-ROC для валидационной выборки):\", roc_auc_score(target_valid, valid_predictions))"
   ]
  },
  {
   "cell_type": "markdown",
   "metadata": {},
   "source": [
    "<span style=\"color:purple\">Лучше всего польза борьбы с дисбалансом видна для логистической регрессии - значение f1 для валидационной выборки взлетело с 0.10 для несбалансированной выборки до 0.45 для сбалансированной. Увеличение AUC-ROC также заметно.<span>"
   ]
  },
  {
   "cell_type": "markdown",
   "metadata": {},
   "source": [
    "## 3.2. Уменьшение выборки<a class=\"anchor\" id=\"3.2-bullet\"></a>\n",
    "👈[назад к оглавлению](#0-bullet)"
   ]
  },
  {
   "cell_type": "markdown",
   "metadata": {},
   "source": [
    "<span style=\"color:purple\">Применим технику downsampling.<span>"
   ]
  },
  {
   "cell_type": "code",
   "execution_count": 44,
   "metadata": {},
   "outputs": [],
   "source": [
    "def downsample(features, target, fraction):\n",
    "    features_zeros = features[target == 0]\n",
    "    features_ones = features[target == 1]\n",
    "    target_zeros = target[target == 0]\n",
    "    target_ones = target[target == 1]\n",
    "\n",
    "    features_downsampled = pd.concat([features_zeros.sample(frac=fraction, random_state=100500)] + [features_ones])\n",
    "    target_downsampled = pd.concat([target_zeros.sample(frac=fraction, random_state=100500)] + [target_ones])\n",
    "    \n",
    "    features_downsampled, target_downsampled = shuffle(features_downsampled, target_downsampled, random_state=100500)\n",
    "    \n",
    "    return features_downsampled, target_downsampled\n",
    "\n",
    "features_downsampled, target_downsampled = downsample(features_train, target_train, 0.25)"
   ]
  },
  {
   "cell_type": "markdown",
   "metadata": {},
   "source": [
    "<span style=\"color:purple\">Проверим баланс классов.<span>"
   ]
  },
  {
   "cell_type": "code",
   "execution_count": 45,
   "metadata": {},
   "outputs": [
    {
     "name": "stdout",
     "output_type": "stream",
     "text": [
      "0    0.501043\n",
      "1    0.498957\n",
      "Name: Exited, dtype: float64\n"
     ]
    },
    {
     "data": {
      "text/plain": [
       "<matplotlib.axes._subplots.AxesSubplot at 0x7fb559950c90>"
      ]
     },
     "execution_count": 45,
     "metadata": {},
     "output_type": "execute_result"
    },
    {
     "data": {
      "image/png": "[encoded data removed]",
      "text/plain": [
       "<Figure size 432x288 with 1 Axes>"
      ]
     },
     "metadata": {
      "needs_background": "light"
     },
     "output_type": "display_data"
    }
   ],
   "source": [
    "class_frequency = target_downsampled.value_counts(normalize=True)\n",
    "print(class_frequency)\n",
    "class_frequency.plot(kind='bar')"
   ]
  },
  {
   "cell_type": "markdown",
   "metadata": {},
   "source": [
    "<span style=\"color:purple\">Классы сбалансированы.<span>"
   ]
  },
  {
   "cell_type": "markdown",
   "metadata": {},
   "source": [
    "<span style=\"color:purple\">Обучим модели на новых данных и посмотрим, что получилось.<span>"
   ]
  },
  {
   "cell_type": "markdown",
   "metadata": {},
   "source": [
    "### 3.2.1. Дерево решений<a class=\"anchor\" id=\"3.2.1-bullet\"></a>\n",
    "👈[назад к оглавлению](#0-bullet)"
   ]
  },
  {
   "cell_type": "code",
   "execution_count": 46,
   "metadata": {},
   "outputs": [
    {
     "name": "stdout",
     "output_type": "stream",
     "text": [
      "F1-мера для дерева решений:\n",
      "\n",
      "Обучающая выборка: 0.8031892572387748\n",
      "Валидационная выборка: 0.5597082953509571\n",
      "(AUC-ROC для валидационной выборки): 0.7502912388977004\n"
     ]
    }
   ],
   "source": [
    "print(\"F1-мера для дерева решений:\")\n",
    "print()\n",
    "model_tree = DecisionTreeClassifier(max_depth=6, random_state=100500)\n",
    "model_tree.fit(features_downsampled, target_downsampled)\n",
    "train_predictions = model_tree.predict(features_downsampled)\n",
    "valid_predictions = model_tree.predict(features_valid)\n",
    "print(\"Обучающая выборка:\", f1_score(target_downsampled, train_predictions))\n",
    "print(\"Валидационная выборка:\", f1_score(target_valid, valid_predictions))\n",
    "print(\"(AUC-ROC для валидационной выборки):\", roc_auc_score(target_valid, valid_predictions))"
   ]
  },
  {
   "cell_type": "markdown",
   "metadata": {},
   "source": [
    "<span style=\"color:purple\">И в случае уменьшения выборки выравнивание классов не улучшило f1 для нашего дерева решений. Однако значение AUC-ROC выросло, причём оно ещё выше, чем в случае upsampling.<span>"
   ]
  },
  {
   "cell_type": "markdown",
   "metadata": {},
   "source": [
    "### 3.2.2. Случайный лес<a class=\"anchor\" id=\"3.2.2-bullet\"></a>\n",
    "👈[назад к оглавлению](#0-bullet)"
   ]
  },
  {
   "cell_type": "code",
   "execution_count": 47,
   "metadata": {},
   "outputs": [
    {
     "name": "stdout",
     "output_type": "stream",
     "text": [
      "F1-мера для случайного леса:\n",
      "\n",
      "Обучающая выборка: 0.8749999999999999\n",
      "Валидационная выборка: 0.5916824196597353\n",
      "(AUC-ROC для валидационной выборки): 0.7716990021375193\n"
     ]
    }
   ],
   "source": [
    "print(\"F1-мера для случайного леса:\")\n",
    "print()\n",
    "model_forest = RandomForestClassifier(n_estimators=100, max_depth=8, random_state=100500)\n",
    "model_forest.fit(features_downsampled, target_downsampled)\n",
    "train_predictions = model_forest.predict(features_downsampled)\n",
    "valid_predictions = model_forest.predict(features_valid)\n",
    "print(\"Обучающая выборка:\", f1_score(target_downsampled, train_predictions))\n",
    "print(\"Валидационная выборка:\", f1_score(target_valid, valid_predictions))\n",
    "print(\"(AUC-ROC для валидационной выборки):\", roc_auc_score(target_valid, valid_predictions))"
   ]
  },
  {
   "cell_type": "markdown",
   "metadata": {},
   "source": [
    "<span style=\"color:purple\">Для случайного леса с параметрами  max_depth=8 и n_estimators= 100 на валидационной выборке удалось достичь значения f1, равного 0.592. AUC-ROC, равная 0.772, также очень хороша.<span>"
   ]
  },
  {
   "cell_type": "markdown",
   "metadata": {},
   "source": [
    "### 3.2.3. Логистическая регрессия<a class=\"anchor\" id=\"3.2.3-bullet\"></a>\n",
    "👈[назад к оглавлению](#0-bullet)"
   ]
  },
  {
   "cell_type": "code",
   "execution_count": 48,
   "metadata": {},
   "outputs": [
    {
     "name": "stdout",
     "output_type": "stream",
     "text": [
      "F1-мера для логистической регрессии:\n",
      "\n",
      "Обучающая выборка: 0.6750208855472013\n",
      "Валидационная выборка: 0.4495488105004101\n",
      "(AUC-ROC для валидационной выборки): 0.6617652182738963\n"
     ]
    }
   ],
   "source": [
    "print(\"F1-мера для логистической регрессии:\")\n",
    "print()\n",
    "model_logreg = LogisticRegression(random_state=100500, solver='liblinear')\n",
    "model_logreg.fit(features_downsampled, target_downsampled)\n",
    "train_predictions = model_logreg.predict(features_downsampled)\n",
    "valid_predictions = model_logreg.predict(features_valid)    \n",
    "print(\"Обучающая выборка:\", f1_score(target_downsampled, train_predictions))\n",
    "print(\"Валидационная выборка:\", f1_score(target_valid, valid_predictions))\n",
    "print(\"(AUC-ROC для валидационной выборки):\", roc_auc_score(target_valid, valid_predictions))"
   ]
  },
  {
   "cell_type": "markdown",
   "metadata": {},
   "source": [
    "<span style=\"color:purple\">Так же, как и при увеличении выборки, при уменьшении выборки значение f1 в случае логистической регрессии резко возрастает - с 0.10 для несбалансированной выборки до 0.45 для сбалансированной. И увеличение AUC-ROC также хорошо видно.<span>"
   ]
  },
  {
   "cell_type": "markdown",
   "metadata": {},
   "source": [
    "<span style=\"color:purple\">По результатам исследований лучший результат показала модель случайного леса с применением техники upsampling и параметрами n_estimators=80 и max_depth=12.Проведём проверку этой модели на тестовой выборке.<span>"
   ]
  },
  {
   "cell_type": "markdown",
   "metadata": {},
   "source": [
    "# 4. Тестирование модели<a class=\"anchor\" id=\"4-bullet\"></a>\n",
    "👈[назад к оглавлению](#0-bullet)"
   ]
  },
  {
   "cell_type": "code",
   "execution_count": 49,
   "metadata": {},
   "outputs": [
    {
     "name": "stdout",
     "output_type": "stream",
     "text": [
      "F1-мера\n",
      "Тестовая выборка: 0.6220204313280364\n"
     ]
    }
   ],
   "source": [
    "print(\"F1-мера\")\n",
    "model_optimal = RandomForestClassifier(n_estimators=80, max_depth=12, random_state=100500)\n",
    "model_optimal.fit(features_upsampled, target_upsampled)\n",
    "test_predictions = model_optimal.predict(features_test)\n",
    "print(\"Тестовая выборка:\", f1_score(target_test, test_predictions))"
   ]
  },
  {
   "cell_type": "markdown",
   "metadata": {},
   "source": [
    "<span style=\"color:purple\">На тестовой выборке получено значение f1, равное 0.622. Таким образом, удалось достичь f1-меры не менее 0.59.<span>"
   ]
  },
  {
   "cell_type": "markdown",
   "metadata": {},
   "source": [
    "<span style=\"color:purple\">И в заключение посмотрим, чему равна мера AUC-ROC.<span>"
   ]
  },
  {
   "cell_type": "code",
   "execution_count": 50,
   "metadata": {},
   "outputs": [
    {
     "name": "stdout",
     "output_type": "stream",
     "text": [
      "AUC-ROC: 0.7650548319126521\n"
     ]
    }
   ],
   "source": [
    "print(\"AUC-ROC:\", roc_auc_score(target_test, test_predictions))"
   ]
  },
  {
   "cell_type": "markdown",
   "metadata": {},
   "source": [
    "<span style=\"color:purple\">AUC-ROC = 0.765, и это чуть выше, чем на валидационной выборке.<span>"
   ]
  }
 ],
 "metadata": {
  "kernelspec": {
   "display_name": "Python 3",
   "language": "python",
   "name": "python3"
  },
  "language_info": {
   "codemirror_mode": {
    "name": "ipython",
    "version": 3
   },
   "file_extension": ".py",
   "mimetype": "text/x-python",
   "name": "python",
   "nbconvert_exporter": "python",
   "pygments_lexer": "ipython3",
   "version": "3.7.6"
  }
 },
 "nbformat": 4,
 "nbformat_minor": 2
}
